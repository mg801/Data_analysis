{
 "cells": [
  {
   "cell_type": "code",
   "execution_count": 1,
   "id": "54b1a8f1",
   "metadata": {},
   "outputs": [],
   "source": [
    "import pyspark as ps \n",
    "\n",
    "sc = ps.sql.SparkSession.builder.master(\"local\").appName(\"firstmodel\").getOrCreate()"
   ]
  },
  {
   "cell_type": "code",
   "execution_count": 2,
   "id": "d5e27425",
   "metadata": {},
   "outputs": [
    {
     "data": {
      "text/plain": [
       "DataFrame[year_target: int, Uid: int, age: int, Pid: int, city: string, state: string, subscribe: int, MARRIAGE: int, EDUCATION: int]"
      ]
     },
     "execution_count": 2,
     "metadata": {},
     "output_type": "execute_result"
    }
   ],
   "source": [
    "df= sc.read.csv('RegressionData_1.csv',header=True,inferSchema=True)\n",
    "df"
   ]
  },
  {
   "cell_type": "code",
   "execution_count": 3,
   "id": "dd948b33",
   "metadata": {},
   "outputs": [],
   "source": [
    "from pyspark.ml.linalg import Vectors\n",
    "from pyspark.ml.feature import VectorAssembler\n",
    "from pyspark.ml.feature import StringIndexer\n",
    "from pyspark.ml.classification import DecisionTreeClassifier\n",
    "from pyspark.ml.classification import RandomForestClassifier\n",
    "from pyspark.ml.evaluation import MulticlassClassificationEvaluator\n",
    "from pyspark.ml import Pipeline"
   ]
  },
  {
   "cell_type": "code",
   "execution_count": 4,
   "id": "20ed4922",
   "metadata": {},
   "outputs": [],
   "source": [
    "stringindexerInputs = ['city','state']\n",
    "stringindexerOutputs = ['index_city','index_state']\n",
    "stringindexer = StringIndexer(inputCols=stringindexerInputs, outputCols=stringindexerOutputs)\n",
    "#ds=stringindexer.fit(df).transform(df)\n",
    "#ds.show(5)"
   ]
  },
  {
   "cell_type": "code",
   "execution_count": 5,
   "id": "2b7fc221",
   "metadata": {},
   "outputs": [],
   "source": [
    "assemblerInputs = ['index_city','index_state','year_target','Uid','age','Pid','MARRIAGE','EDUCATION']\n",
    "vector_assembler = VectorAssembler(inputCols=assemblerInputs, outputCol=\"features\")\n",
    "#ml_dataset=vector_assembler.transform(ds)\n",
    "#ml_dataset.show(5)"
   ]
  },
  {
   "cell_type": "code",
   "execution_count": 6,
   "id": "b4c3eba0",
   "metadata": {},
   "outputs": [],
   "source": [
    "(trainDataset, testDataset) = df.randomSplit([.7,0.3])"
   ]
  },
  {
   "cell_type": "code",
   "execution_count": 7,
   "id": "c28d453d",
   "metadata": {},
   "outputs": [],
   "source": [
    "rf_model = RandomForestClassifier(labelCol=\"subscribe\",featuresCol=\"features\",numTrees=20)"
   ]
  },
  {
   "cell_type": "code",
   "execution_count": 8,
   "id": "0218ee11",
   "metadata": {},
   "outputs": [],
   "source": [
    "pipeline = Pipeline(stages=[stringindexer, vector_assembler, rf_model])"
   ]
  },
  {
   "cell_type": "code",
   "execution_count": 9,
   "id": "1abfd89c",
   "metadata": {},
   "outputs": [],
   "source": [
    "model = pipeline.fit(trainDataset)"
   ]
  },
  {
   "cell_type": "code",
   "execution_count": 10,
   "id": "56621dfd",
   "metadata": {},
   "outputs": [],
   "source": [
    "predictions=model.transform(testDataset)"
   ]
  },
  {
   "cell_type": "code",
   "execution_count": 11,
   "id": "dec9a839",
   "metadata": {
    "collapsed": true
   },
   "outputs": [
    {
     "name": "stdout",
     "output_type": "stream",
     "text": [
      "+-----------+----+---+------+---------+-----+---------+--------+---------+----------+-----------+--------------------+--------------------+--------------------+----------+\n",
      "|year_target| Uid|age|   Pid|     city|state|subscribe|MARRIAGE|EDUCATION|index_city|index_state|            features|       rawPrediction|         probability|prediction|\n",
      "+-----------+----+---+------+---------+-----+---------+--------+---------+----------+-----------+--------------------+--------------------+--------------------+----------+\n",
      "|       1920| 143| 77|988389|bangalore|   HP|        1|       1|        2|       2.0|        1.0|[2.0,1.0,1920.0,1...|[10.8751007314163...|[0.54375503657081...|       0.0|\n",
      "|       1920| 173| 66|537792|bangalore|   MP|        0|       2|        1|       2.0|        2.0|[2.0,2.0,1920.0,1...|[10.0080433324573...|[0.50040216662286...|       0.0|\n",
      "|       1920|1005| 30|638631|    delhi|   HP|        0|       1|        1|       3.0|        1.0|[3.0,1.0,1920.0,1...|[10.0769640279059...|[0.50384820139529...|       0.0|\n",
      "|       1920|1031| 41|458391|bangalore|   HP|        1|       2|        3|       2.0|        1.0|[2.0,1.0,1920.0,1...|[10.4858680945975...|[0.52429340472987...|       0.0|\n",
      "|       1920|1407| 33|305141|    delhi|   UP|        0|       2|        1|       3.0|        0.0|[3.0,0.0,1920.0,1...|[9.78949366477752...|[0.48947468323887...|       1.0|\n",
      "+-----------+----+---+------+---------+-----+---------+--------+---------+----------+-----------+--------------------+--------------------+--------------------+----------+\n",
      "only showing top 5 rows\n",
      "\n"
     ]
    }
   ],
   "source": [
    "predictions.show(5)"
   ]
  },
  {
   "cell_type": "code",
   "execution_count": 12,
   "id": "88fe99b3",
   "metadata": {},
   "outputs": [
    {
     "name": "stdout",
     "output_type": "stream",
     "text": [
      "Accuracy_dtc : 0.4947691676345243\n"
     ]
    }
   ],
   "source": [
    "evaluator = MulticlassClassificationEvaluator(labelCol=\"subscribe\",predictionCol=\"prediction\")\n",
    "accuracy = evaluator.evaluate(predictions)\n",
    "print(\"Accuracy_dtc :\",accuracy)"
   ]
  },
  {
   "cell_type": "code",
   "execution_count": 14,
   "id": "0c564f29",
   "metadata": {
    "collapsed": true
   },
   "outputs": [
    {
     "name": "stdout",
     "output_type": "stream",
     "text": [
      "+----+--------------------+--------------------+----------+\n",
      "| Uid|            features|         probability|prediction|\n",
      "+----+--------------------+--------------------+----------+\n",
      "| 143|[0.0,1.0,1920.0,1...|[0.47248640126779...|       1.0|\n",
      "|1407|[2.0,0.0,1920.0,1...|[0.48845394608192...|       1.0|\n",
      "|1853|[3.0,0.0,1920.0,1...|[0.48379077108386...|       1.0|\n",
      "|2407|[3.0,1.0,1920.0,2...|[0.44821529468136...|       1.0|\n",
      "|2859|[1.0,2.0,1920.0,2...|[0.48962694534595...|       1.0|\n",
      "+----+--------------------+--------------------+----------+\n",
      "only showing top 5 rows\n",
      "\n"
     ]
    }
   ],
   "source": [
    "selected = predictions.select(\"Uid\", \"features\", \"probability\", \"prediction\")\n",
    "selected.show(5)"
   ]
  }
 ],
 "metadata": {
  "kernelspec": {
   "display_name": "Python 3",
   "language": "python",
   "name": "python3"
  },
  "language_info": {
   "codemirror_mode": {
    "name": "ipython",
    "version": 3
   },
   "file_extension": ".py",
   "mimetype": "text/x-python",
   "name": "python",
   "nbconvert_exporter": "python",
   "pygments_lexer": "ipython3",
   "version": "3.8.8"
  }
 },
 "nbformat": 4,
 "nbformat_minor": 5
}
